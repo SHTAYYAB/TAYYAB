{
 "cells": [
  {
   "cell_type": "code",
   "execution_count": 1,
   "metadata": {},
   "outputs": [
    {
     "name": "stdout",
     "output_type": "stream",
     "text": [
      "you are right\n"
     ]
    }
   ],
   "source": [
    "a=30\n",
    "b=25\n",
    "c=5\n",
    "d=b+c\n",
    "if a ==d:\n",
    "    print(\"you are right\")\n",
    "else:\n",
    "    print(\"you are wrong\")"
   ]
  },
  {
   "cell_type": "code",
   "execution_count": 2,
   "metadata": {},
   "outputs": [],
   "source": [
    "a=85\n",
    "b=45\n",
    "c=35\n",
    "d=70\n",
    "e=40\n",
    "g=65\n",
    "if a == b or c==g :\n",
    "        print (\"first condition is applied\")\n",
    "elif b == d and c==e:\n",
    "        print (\"second condition is applied\")\n",
    "else:\n",
    "    (\"no condition is applied\")"
   ]
  },
  {
   "cell_type": "code",
   "execution_count": 3,
   "metadata": {},
   "outputs": [
    {
     "name": "stdout",
     "output_type": "stream",
     "text": [
      "enter your islamiat marks54\n",
      "enter your chem marks565\n",
      "enter your phy marks56\n",
      "enter your eng marks56\n",
      "enter your maths marks56\n",
      "A GRADE\n",
      "A GRADE\n"
     ]
    }
   ],
   "source": [
    "a = int(input(\"enter your islamiat marks\"))\n",
    "b = int(input(\"enter your chem marks\"))\n",
    "c = int(input(\"enter your phy marks\"))\n",
    "d = int(input(\"enter your eng marks\"))\n",
    "e = int(input(\"enter your maths marks\"))\n",
    "if a >=70 and b >=70 and c >=70 and d >=70 and e >=70:\n",
    "    print(\"A GRADE\")\n",
    "if a >=60 and b >=60 and c >=60 and d >=60 and e >=60:\n",
    "    print(\"A GRADE\")\n",
    "if a >=50 and b >=50 and c >=50 and d >=50 and e >=50:\n",
    "    print(\"A GRADE\")\n",
    "if a >=40 and b >=40 and c >=40 and d >=40 and e >=40:\n",
    "    print(\"A GRADE\")\n",
    "else:\n",
    "    print(\"fail\")"
   ]
  },
  {
   "cell_type": "code",
   "execution_count": 4,
   "metadata": {},
   "outputs": [
    {
     "name": "stdout",
     "output_type": "stream",
     "text": [
      "select operation.\n",
      "1.add\n",
      "2.subtraction\n",
      "enter choixe(1/2)1/2\n",
      "enter first number:2\n",
      "enter second number:52\n",
      "wrong\n"
     ]
    }
   ],
   "source": [
    "def add (a,b):\n",
    "    return a + b\n",
    "def subtraction (a,b):\n",
    "    return a - b\n",
    "print(\"select operation.\")\n",
    "print(\"1.add\")\n",
    "print(\"2.subtraction\")\n",
    "choice=input(\"enter choixe(1/2)\")\n",
    "number1=float(input(\"enter first number:\"))\n",
    "number2=float(input(\"enter second number:\"))\n",
    "if choice=='1':\n",
    "    print (number1,number2,\"=\",add(number1,number2))\n",
    "elif choice=='2':\n",
    "    print (number1,number2,\"=\",subtraction(number1,number2))\n",
    "else :\n",
    "    print(\"wrong\")"
   ]
  },
  {
   "cell_type": "code",
   "execution_count": 1,
   "metadata": {},
   "outputs": [
    {
     "name": "stdout",
     "output_type": "stream",
     "text": [
      "\t\t\tSAYLANI ONLINE ACADEMY BADGE-C\n",
      "Saylani Mass IT Training\n",
      "\tsaylani mass it training\n",
      "saylani mass it training\n",
      "\tsaylani mass it training\n",
      "saylani mass it training\n",
      "\tsaylani mass it training\n",
      "saylani mass it training\n",
      "\tsaylani mass it training\n",
      "\tsaylani mass it training\n",
      "saylani mass it training\n",
      "\tsaylani mass it training\n"
     ]
    }
   ],
   "source": [
    "print (\"\\t\\t\\tSAYLANI ONLINE ACADEMY BADGE-C\")\n",
    "print(\"Saylani Mass IT Training\")\n",
    "print(\"\\tsaylani mass it training\")\n",
    "print(\"saylani mass it training\")\n",
    "print(\"\\tsaylani mass it training\")\n",
    "print(\"saylani mass it training\")\n",
    "print(\"\\tsaylani mass it training\")\n",
    "print(\"saylani mass it training\")\n",
    "print(\"\\tsaylani mass it training\")\n",
    "print(\"\\tsaylani mass it training\")\n",
    "print(\"saylani mass it training\")\n",
    "print(\"\\tsaylani mass it training\")"
   ]
  },
  {
   "cell_type": "code",
   "execution_count": 2,
   "metadata": {},
   "outputs": [
    {
     "name": "stdout",
     "output_type": "stream",
     "text": [
      "Saylani Mass IT Training \tSaylani Mass IT Training\n",
      "Saylani Mass IT Training \tSaylani Mass IT Training\n",
      "Saylani Mass IT Training \tSaylani Mass IT Training\n",
      "Saylani Mass IT Training \tSaylani Mass IT Training\n"
     ]
    }
   ],
   "source": [
    "print(\"Saylani Mass IT Training \\tSaylani Mass IT Training\")\n",
    "print(\"Saylani Mass IT Training \\tSaylani Mass IT Training\")\n",
    "print(\"Saylani Mass IT Training \\tSaylani Mass IT Training\")\n",
    "print(\"Saylani Mass IT Training \\tSaylani Mass IT Training\")"
   ]
  },
  {
   "cell_type": "code",
   "execution_count": 3,
   "metadata": {},
   "outputs": [
    {
     "name": "stdout",
     "output_type": "stream",
     "text": [
      "\tSaylani Mass IT Training \n",
      "Saylani Mass IT Training \tSaylani Mass IT Training\n",
      "\tSaylani Mass IT Training \n",
      "Saylani Mass IT Training \tSaylani Mass IT Training\n",
      "\tSaylani Mass IT Training \n",
      "Saylani Mass IT Training \tSaylani Mass IT Training\n",
      "\tSaylani Mass IT Training \n",
      "Saylani Mass IT Training \tSaylani Mass IT Training\n",
      "\tSaylani Mass IT Training \n",
      "Saylani Mass IT Training \tSaylani Mass IT Training\n"
     ]
    }
   ],
   "source": [
    "print(\"\\tSaylani Mass IT Training \\nSaylani Mass IT Training \\tSaylani Mass IT Training\")\n",
    "print(\"\\tSaylani Mass IT Training \\nSaylani Mass IT Training \\tSaylani Mass IT Training\")\n",
    "print(\"\\tSaylani Mass IT Training \\nSaylani Mass IT Training \\tSaylani Mass IT Training\")\n",
    "print(\"\\tSaylani Mass IT Training \\nSaylani Mass IT Training \\tSaylani Mass IT Training\")\n",
    "print(\"\\tSaylani Mass IT Training \\nSaylani Mass IT Training \\tSaylani Mass IT Training\")"
   ]
  },
  {
   "cell_type": "code",
   "execution_count": 4,
   "metadata": {},
   "outputs": [
    {
     "name": "stdout",
     "output_type": "stream",
     "text": [
      "saylani Mass IT Training\n",
      "\tsaylani Mass IT Training\n",
      "\t\tsaylani Mass IT Training\n",
      "\t\t\tsaylani Mass IT Training\n",
      "\t\tsaylani Mass IT Training\n",
      "\tsaylani Mass IT Training\n",
      "saylani Mass IT Training\n"
     ]
    }
   ],
   "source": [
    "print(\"saylani Mass IT Training\")\n",
    "print(\"\\tsaylani Mass IT Training\")\n",
    "print(\"\\t\\tsaylani Mass IT Training\")\n",
    "print(\"\\t\\t\\tsaylani Mass IT Training\")\n",
    "print(\"\\t\\tsaylani Mass IT Training\")\n",
    "print(\"\\tsaylani Mass IT Training\")\n",
    "print(\"saylani Mass IT Training\")"
   ]
  },
  {
   "cell_type": "code",
   "execution_count": null,
   "metadata": {},
   "outputs": [],
   "source": []
  }
 ],
 "metadata": {
  "kernelspec": {
   "display_name": "Python 3",
   "language": "python",
   "name": "python3"
  },
  "language_info": {
   "codemirror_mode": {
    "name": "ipython",
    "version": 3
   },
   "file_extension": ".py",
   "mimetype": "text/x-python",
   "name": "python",
   "nbconvert_exporter": "python",
   "pygments_lexer": "ipython3",
   "version": "3.7.6"
  }
 },
 "nbformat": 4,
 "nbformat_minor": 4
}
